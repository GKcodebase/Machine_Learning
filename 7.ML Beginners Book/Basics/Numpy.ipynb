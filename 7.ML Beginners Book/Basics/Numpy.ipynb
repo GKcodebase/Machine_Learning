{
 "cells": [
  {
   "cell_type": "markdown",
   "id": "f0f40c85",
   "metadata": {},
   "source": [
    "## Numpy\n",
    "\n",
    "#### NumPy is a library for the Python programming language, adding support for large, multi-dimensional arrays and matrices, along with a large collection of high-level mathematical functions to operate on these array"
   ]
  },
  {
   "cell_type": "code",
   "execution_count": null,
   "id": "2ab34157",
   "metadata": {},
   "outputs": [],
   "source": [
    "#Installation\n",
    "conda install numpy"
   ]
  },
  {
   "cell_type": "code",
   "execution_count": 1,
   "id": "28802e32",
   "metadata": {},
   "outputs": [
    {
     "name": "stdout",
     "output_type": "stream",
     "text": [
      "[1 2 3 4 5 6 7 8]\n",
      "(8,)\n",
      "first element :  1\n",
      "last element :  8\n"
     ]
    }
   ],
   "source": [
    "import numpy as np\n",
    "mylist = [1,2,3,4,5,6,7,8]\n",
    "myarray = np.array(mylist)\n",
    "print(myarray)\n",
    "print(myarray.shape)\n",
    "print(\"first element : \",myarray[0])\n",
    "print(\"last element : \",myarray[-1])"
   ]
  },
  {
   "cell_type": "code",
   "execution_count": null,
   "id": "40631846",
   "metadata": {},
   "outputs": [],
   "source": [
    "#Ones and zeros array"
   ]
  }
 ],
 "metadata": {
  "kernelspec": {
   "display_name": "Python 3 (ipykernel)",
   "language": "python",
   "name": "python3"
  },
  "language_info": {
   "codemirror_mode": {
    "name": "ipython",
    "version": 3
   },
   "file_extension": ".py",
   "mimetype": "text/x-python",
   "name": "python",
   "nbconvert_exporter": "python",
   "pygments_lexer": "ipython3",
   "version": "3.9.12"
  }
 },
 "nbformat": 4,
 "nbformat_minor": 5
}
