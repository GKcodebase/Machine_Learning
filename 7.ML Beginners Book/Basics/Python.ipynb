{
 "cells": [
  {
   "cell_type": "markdown",
   "id": "f88939f8",
   "metadata": {},
   "source": [
    "# Python fundamentals for beginners"
   ]
  },
  {
   "cell_type": "markdown",
   "id": "e2cb6bbe",
   "metadata": {},
   "source": [
    "### Literals in Python\n",
    "#### As python is an interpreted language, data types are not defined in it and values can be assigned to variables as follows :"
   ]
  },
  {
   "cell_type": "code",
   "execution_count": null,
   "id": "720f7da9",
   "metadata": {},
   "outputs": [],
   "source": [
    "# Strings\n",
    "string = 'hello python'\n",
    "print(string)\n",
    "print(string[0]) \n",
    "print(len(string)) "
   ]
  },
  {
   "cell_type": "code",
   "execution_count": 11,
   "id": "3d653104",
   "metadata": {},
   "outputs": [
    {
     "name": "stdout",
     "output_type": "stream",
     "text": [
      "123.1\n",
      "10\n",
      "-1\n"
     ]
    }
   ],
   "source": [
    "# Numbers\n",
    "number = 123.1\n",
    "print(number)\n",
    "number = 10\n",
    "print(number)\n",
    "number = -1\n",
    "print(number)"
   ]
  },
  {
   "cell_type": "code",
   "execution_count": 12,
   "id": "c95594e0",
   "metadata": {},
   "outputs": [
    {
     "name": "stdout",
     "output_type": "stream",
     "text": [
      "True False\n"
     ]
    }
   ],
   "source": [
    "# Boolean\n",
    "true = True\n",
    "false = False\n",
    "print(true, false)"
   ]
  },
  {
   "cell_type": "code",
   "execution_count": 5,
   "id": "638f2dc0",
   "metadata": {},
   "outputs": [
    {
     "name": "stdout",
     "output_type": "stream",
     "text": [
      "1 string True\n"
     ]
    }
   ],
   "source": [
    "# Multiple Assignment\n",
    "a, b, c = 1, 'string', True\n",
    "print(a, b, c)"
   ]
  },
  {
   "cell_type": "code",
   "execution_count": 14,
   "id": "43dfdf09",
   "metadata": {},
   "outputs": [
    {
     "name": "stdout",
     "output_type": "stream",
     "text": [
      "None\n"
     ]
    }
   ],
   "source": [
    "# No value\n",
    "a = None\n",
    "print(a)"
   ]
  },
  {
   "cell_type": "markdown",
   "id": "9fa4d500",
   "metadata": {},
   "source": [
    "### Operators in python\n",
    "#### python has  Arithmetic operators, Assignment operators ,Comparison operators, Logical operators\n",
    "#### Identity operators, Membership operators, Bitwise operators"
   ]
  },
  {
   "cell_type": "code",
   "execution_count": 6,
   "id": "7a768593",
   "metadata": {},
   "outputs": [
    {
     "name": "stdout",
     "output_type": "stream",
     "text": [
      "30\n",
      "-10\n",
      "200\n",
      "0.5\n",
      "0\n"
     ]
    }
   ],
   "source": [
    "#Arithmetic Opertors\n",
    "x = 10\n",
    "y = 20\n",
    "print(x+y)\n",
    "print(x-y)\n",
    "print(x*y)\n",
    "print(x/y)\n",
    "print(y%x)"
   ]
  },
  {
   "cell_type": "markdown",
   "id": "3d6ccbbd",
   "metadata": {},
   "source": [
    "### If and else"
   ]
  },
  {
   "cell_type": "code",
   "execution_count": 16,
   "id": "8a9eb705",
   "metadata": {},
   "outputs": [
    {
     "name": "stdout",
     "output_type": "stream",
     "text": [
      "PASSED\n"
     ]
    }
   ],
   "source": [
    "condition = 50\n",
    "if condition < 35:\n",
    "    print('FAILED') \n",
    "else:\n",
    "    print('PASSED') "
   ]
  },
  {
   "cell_type": "markdown",
   "id": "6cd6aa3c",
   "metadata": {},
   "source": [
    "### Loops"
   ]
  },
  {
   "cell_type": "code",
   "execution_count": 17,
   "id": "5f715b98",
   "metadata": {},
   "outputs": [
    {
     "name": "stdout",
     "output_type": "stream",
     "text": [
      "0\n",
      "1\n",
      "4\n",
      "9\n",
      "16\n",
      "25\n",
      "36\n",
      "49\n",
      "64\n",
      "81\n"
     ]
    }
   ],
   "source": [
    "# For-Loop : first n square number\n",
    "for i in range(10):\n",
    "  print(i*i)"
   ]
  },
  {
   "cell_type": "code",
   "execution_count": 19,
   "id": "d702fc1f",
   "metadata": {},
   "outputs": [
    {
     "name": "stdout",
     "output_type": "stream",
     "text": [
      "0\n",
      "1\n",
      "8\n",
      "27\n",
      "64\n",
      "125\n",
      "216\n",
      "343\n",
      "512\n",
      "729\n"
     ]
    }
   ],
   "source": [
    "# While-Loop : first n cube number\n",
    "i=0\n",
    "while i < 10:\n",
    "  print(i*i*i)\n",
    "  i+=1"
   ]
  },
  {
   "cell_type": "markdown",
   "id": "835da8bf",
   "metadata": {},
   "source": [
    "### DATASTRUCTURE\n",
    "#### Tuple, List, Dictionary"
   ]
  },
  {
   "cell_type": "code",
   "execution_count": 20,
   "id": "f50bd659",
   "metadata": {},
   "outputs": [
    {
     "name": "stdout",
     "output_type": "stream",
     "text": [
      "(1, 'a', 'string', True)\n"
     ]
    }
   ],
   "source": [
    "#Tuple : read only collection\n",
    "tuple = (1,'a','string',true)\n",
    "print(tuple)"
   ]
  },
  {
   "cell_type": "code",
   "execution_count": 24,
   "id": "413e8862",
   "metadata": {},
   "outputs": [
    {
     "name": "stdout",
     "output_type": "stream",
     "text": [
      "first element is  2\n"
     ]
    }
   ],
   "source": [
    "#List : \n",
    "list = [2,'q','word',True]\n",
    "print(\"first element is \",list[0])"
   ]
  },
  {
   "cell_type": "code",
   "execution_count": 25,
   "id": "8ddacb63",
   "metadata": {},
   "outputs": [
    {
     "name": "stdout",
     "output_type": "stream",
     "text": [
      "2\n",
      "q\n",
      "word\n",
      "True\n"
     ]
    }
   ],
   "source": [
    "for value in list:\n",
    "  print(value)"
   ]
  },
  {
   "cell_type": "code",
   "execution_count": 26,
   "id": "76d39efa",
   "metadata": {},
   "outputs": [
    {
     "name": "stdout",
     "output_type": "stream",
     "text": [
      "1\n",
      "hello\n",
      "True\n"
     ]
    }
   ],
   "source": [
    "#Dictionary\n",
    "dict = {'a':1,'b':'hello','c':true}\n",
    "for key in dict.keys():\n",
    "  print(dict[key])"
   ]
  },
  {
   "cell_type": "code",
   "execution_count": 27,
   "id": "92151a4a",
   "metadata": {},
   "outputs": [
    {
     "name": "stdout",
     "output_type": "stream",
     "text": [
      "Keys:  dict_keys(['a', 'b', 'c'])\n",
      "Values:  dict_values([1, 'hello', True])\n"
     ]
    }
   ],
   "source": [
    "print(\"Keys: \",dict.keys()) \n",
    "print(\"Values: \",dict.values())"
   ]
  },
  {
   "cell_type": "code",
   "execution_count": 44,
   "id": "dd211663",
   "metadata": {},
   "outputs": [
    {
     "name": "stdout",
     "output_type": "stream",
     "text": [
      "15\n",
      "25\n"
     ]
    }
   ],
   "source": [
    "print(myseries[0])\n",
    "print(myseries['blue'])"
   ]
  },
  {
   "cell_type": "code",
   "execution_count": 2,
   "id": "666f40cd",
   "metadata": {},
   "outputs": [
    {
     "name": "stdout",
     "output_type": "stream",
     "text": [
      "   delhi  chennai  kolkata\n",
      "y      1        2        3\n",
      "z      4        5        6\n"
     ]
    }
   ],
   "source": [
    "# dataframe\n",
    "import numpy\n",
    "import pandas\n",
    "myarray = numpy.array([[1, 2, 3], [4, 5, 6]])\n",
    "rownames = ['y', 'z']\n",
    "colnames = ['delhi', 'chennai', 'kolkata']\n",
    "mydataframe = pandas.DataFrame(myarray, index=rownames, columns=colnames)\n",
    "print(mydataframe)"
   ]
  },
  {
   "cell_type": "code",
   "execution_count": 4,
   "id": "fc6bee0a",
   "metadata": {},
   "outputs": [
    {
     "name": "stdout",
     "output_type": "stream",
     "text": [
      "method 1:\n",
      "one column:\n",
      " y    1\n",
      "z    4\n",
      "Name: delhi, dtype: int64\n",
      "method 2:\n",
      "one column:\n",
      " y    1\n",
      "z    4\n",
      "Name: delhi, dtype: int64\n"
     ]
    }
   ],
   "source": [
    "print(\"method 1:\")\n",
    "print(\"one column:\\n\",mydataframe['delhi'])\n",
    "print(\"method 2:\")\n",
    "print(\"one column:\\n\",mydataframe.delhi)\n"
   ]
  },
  {
   "cell_type": "code",
   "execution_count": null,
   "id": "3735eef6",
   "metadata": {},
   "outputs": [],
   "source": []
  }
 ],
 "metadata": {
  "kernelspec": {
   "display_name": "Python 3 (ipykernel)",
   "language": "python",
   "name": "python3"
  },
  "language_info": {
   "codemirror_mode": {
    "name": "ipython",
    "version": 3
   },
   "file_extension": ".py",
   "mimetype": "text/x-python",
   "name": "python",
   "nbconvert_exporter": "python",
   "pygments_lexer": "ipython3",
   "version": "3.9.12"
  }
 },
 "nbformat": 4,
 "nbformat_minor": 5
}
