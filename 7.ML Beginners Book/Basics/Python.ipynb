{
 "cells": [
  {
   "cell_type": "markdown",
   "id": "f88939f8",
   "metadata": {},
   "source": [
    "# Python fundamentals for beginners\n",
    "\n",
    "###### Basic python operations for absolute beginners."
   ]
  },
  {
   "cell_type": "markdown",
   "id": "e2cb6bbe",
   "metadata": {},
   "source": [
    "### Literals in Python\n",
    "#### As python is an interpreted language, data types are not defined in it and values can be assigned to variables as follows :"
   ]
  },
  {
   "cell_type": "code",
   "execution_count": null,
   "id": "720f7da9",
   "metadata": {},
   "outputs": [],
   "source": [
    "# Strings\n",
    "string = 'hello python'\n",
    "print(string)\n",
    "print(string[0]) \n",
    "print(len(string)) "
   ]
  },
  {
   "cell_type": "code",
   "execution_count": 11,
   "id": "3d653104",
   "metadata": {},
   "outputs": [
    {
     "name": "stdout",
     "output_type": "stream",
     "text": [
      "123.1\n",
      "10\n",
      "-1\n"
     ]
    }
   ],
   "source": [
    "# Numbers\n",
    "number = 123.1\n",
    "print(number)\n",
    "number = 10\n",
    "print(number)\n",
    "number = -1\n",
    "print(number)"
   ]
  },
  {
   "cell_type": "code",
   "execution_count": 12,
   "id": "c95594e0",
   "metadata": {},
   "outputs": [
    {
     "name": "stdout",
     "output_type": "stream",
     "text": [
      "True False\n"
     ]
    }
   ],
   "source": [
    "# Boolean\n",
    "true = True\n",
    "false = False\n",
    "print(true, false)"
   ]
  },
  {
   "cell_type": "code",
   "execution_count": 5,
   "id": "638f2dc0",
   "metadata": {},
   "outputs": [
    {
     "name": "stdout",
     "output_type": "stream",
     "text": [
      "1 string True\n"
     ]
    }
   ],
   "source": [
    "# Multiple Assignment\n",
    "a, b, c = 1, 'string', True\n",
    "print(a, b, c)"
   ]
  },
  {
   "cell_type": "code",
   "execution_count": 14,
   "id": "43dfdf09",
   "metadata": {},
   "outputs": [
    {
     "name": "stdout",
     "output_type": "stream",
     "text": [
      "None\n"
     ]
    }
   ],
   "source": [
    "# No value\n",
    "a = None\n",
    "print(a)"
   ]
  },
  {
   "cell_type": "markdown",
   "id": "a6cc240b",
   "metadata": {},
   "source": [
    "## Comments\n",
    "##### Supports single line and mult-line comments."
   ]
  },
  {
   "cell_type": "code",
   "execution_count": 2,
   "id": "2b531d4f",
   "metadata": {},
   "outputs": [
    {
     "data": {
      "text/plain": [
       "'\\n    Multi\\n    line\\n    comments\\n'"
      ]
     },
     "execution_count": 2,
     "metadata": {},
     "output_type": "execute_result"
    }
   ],
   "source": [
    "#Single line comments\n",
    "\n",
    "\"\"\"\n",
    "    Multi\n",
    "    line\n",
    "    comments\n",
    "\"\"\""
   ]
  },
  {
   "cell_type": "markdown",
   "id": "9fa4d500",
   "metadata": {},
   "source": [
    "### Operators in python\n",
    "#### python has  Arithmetic operators, Assignment operators ,Comparison operators, Logical operators\n",
    "#### Identity operators, Membership operators, Bitwise operators"
   ]
  },
  {
   "cell_type": "code",
   "execution_count": 6,
   "id": "7a768593",
   "metadata": {},
   "outputs": [
    {
     "name": "stdout",
     "output_type": "stream",
     "text": [
      "30\n",
      "-10\n",
      "200\n",
      "0.5\n",
      "0\n"
     ]
    }
   ],
   "source": [
    "#Arithmetic Opertors\n",
    "x = 10\n",
    "y = 20\n",
    "print(x+y)\n",
    "print(x-y)\n",
    "print(x*y)\n",
    "print(x/y)\n",
    "print(y%x)"
   ]
  },
  {
   "cell_type": "code",
   "execution_count": 3,
   "id": "f224e492",
   "metadata": {},
   "outputs": [
    {
     "name": "stdout",
     "output_type": "stream",
     "text": [
      "5\n",
      "8\n"
     ]
    }
   ],
   "source": [
    "#Assignment Operators\n",
    "#X=5\n",
    "x=5\n",
    "print(x)\n",
    "# x+=y same as x = x+y\n",
    "x+=3\n",
    "print(x)\n",
    "#Similarly for -=, *= , /= etc"
   ]
  },
  {
   "cell_type": "code",
   "execution_count": 4,
   "id": "63752e25",
   "metadata": {},
   "outputs": [
    {
     "name": "stdout",
     "output_type": "stream",
     "text": [
      "True\n",
      "True\n",
      "False\n"
     ]
    }
   ],
   "source": [
    "#Comparison Operators\n",
    "# == , != , < , > , <= ,>= are available\n",
    "x=5;\n",
    "print(x==5)\n",
    "print(x!=6)\n",
    "print(x<3)"
   ]
  },
  {
   "cell_type": "code",
   "execution_count": 5,
   "id": "5b5d8195",
   "metadata": {},
   "outputs": [
    {
     "name": "stdout",
     "output_type": "stream",
     "text": [
      "True\n",
      "True\n"
     ]
    }
   ],
   "source": [
    "#Logical Operators\n",
    "# and , or , not\n",
    "x=10\n",
    "print(x>5 and x<15)\n",
    "print(x ==5 or x!= 9)"
   ]
  },
  {
   "cell_type": "markdown",
   "id": "3d6ccbbd",
   "metadata": {},
   "source": [
    "### If and else"
   ]
  },
  {
   "cell_type": "code",
   "execution_count": 16,
   "id": "8a9eb705",
   "metadata": {},
   "outputs": [
    {
     "name": "stdout",
     "output_type": "stream",
     "text": [
      "PASSED\n"
     ]
    }
   ],
   "source": [
    "condition = 50\n",
    "if condition < 35:\n",
    "    print('FAILED') \n",
    "else:\n",
    "    print('PASSED') "
   ]
  },
  {
   "cell_type": "markdown",
   "id": "6cd6aa3c",
   "metadata": {},
   "source": [
    "### Loops"
   ]
  },
  {
   "cell_type": "code",
   "execution_count": 17,
   "id": "5f715b98",
   "metadata": {},
   "outputs": [
    {
     "name": "stdout",
     "output_type": "stream",
     "text": [
      "0\n",
      "1\n",
      "4\n",
      "9\n",
      "16\n",
      "25\n",
      "36\n",
      "49\n",
      "64\n",
      "81\n"
     ]
    }
   ],
   "source": [
    "# For-Loop : first n square number\n",
    "for i in range(10):\n",
    "  print(i*i)"
   ]
  },
  {
   "cell_type": "code",
   "execution_count": 19,
   "id": "d702fc1f",
   "metadata": {},
   "outputs": [
    {
     "name": "stdout",
     "output_type": "stream",
     "text": [
      "0\n",
      "1\n",
      "8\n",
      "27\n",
      "64\n",
      "125\n",
      "216\n",
      "343\n",
      "512\n",
      "729\n"
     ]
    }
   ],
   "source": [
    "# While-Loop : first n cube number\n",
    "i=0\n",
    "while i < 10:\n",
    "  print(i*i*i)\n",
    "  i+=1"
   ]
  },
  {
   "cell_type": "markdown",
   "id": "835da8bf",
   "metadata": {},
   "source": [
    "### DATASTRUCTURE\n",
    "#####  Tuple, List, Dictionary"
   ]
  },
  {
   "cell_type": "markdown",
   "id": "4f06a560",
   "metadata": {},
   "source": [
    "#### Tuple\n",
    "##### Tuples are used to store multiple items in a single variable.A tuple is a collection which is ordered and unchangeable.Tuples are written with round brackets.\n",
    "\n",
    "\n",
    "\n"
   ]
  },
  {
   "cell_type": "code",
   "execution_count": 20,
   "id": "f50bd659",
   "metadata": {},
   "outputs": [
    {
     "name": "stdout",
     "output_type": "stream",
     "text": [
      "(1, 'a', 'string', True)\n"
     ]
    }
   ],
   "source": [
    "#Tuple : read only collection\n",
    "tuple = (1,'a','string',true)\n",
    "print(tuple)"
   ]
  },
  {
   "cell_type": "code",
   "execution_count": 24,
   "id": "5a843743",
   "metadata": {},
   "outputs": [
    {
     "name": "stdout",
     "output_type": "stream",
     "text": [
      "('apple', 'banana', 'cherry')\n"
     ]
    }
   ],
   "source": [
    "# tuple are immutable object, once you create you cannot edit the existing values\n",
    "x = (\"apple\", \"banana\", \"cherry\")\n",
    "print(x)"
   ]
  },
  {
   "cell_type": "markdown",
   "id": "5dc41668",
   "metadata": {},
   "source": [
    "### Lists \n",
    "##### Lists are used to store multiple items in a single variable. Lists are created using square brackets:\n",
    "\n"
   ]
  },
  {
   "cell_type": "code",
   "execution_count": 12,
   "id": "413e8862",
   "metadata": {},
   "outputs": [
    {
     "name": "stdout",
     "output_type": "stream",
     "text": [
      "first element is  2\n"
     ]
    }
   ],
   "source": [
    "#List : \n",
    "foo = [2,'q','word',True]\n",
    "print(\"first element is \",list[0])"
   ]
  },
  {
   "cell_type": "code",
   "execution_count": 13,
   "id": "8ddacb63",
   "metadata": {},
   "outputs": [
    {
     "name": "stdout",
     "output_type": "stream",
     "text": [
      "2\n",
      "q\n",
      "word\n",
      "True\n"
     ]
    }
   ],
   "source": [
    "for value in foo:\n",
    "  print(value)"
   ]
  },
  {
   "cell_type": "code",
   "execution_count": 14,
   "id": "396f1ed6",
   "metadata": {},
   "outputs": [
    {
     "name": "stdout",
     "output_type": "stream",
     "text": [
      "4\n"
     ]
    }
   ],
   "source": [
    "#Length of list\n",
    "print(len(foo))"
   ]
  },
  {
   "cell_type": "code",
   "execution_count": 21,
   "id": "27c7066e",
   "metadata": {},
   "outputs": [
    {
     "name": "stdout",
     "output_type": "stream",
     "text": [
      "[10, 90, -29, 56, 123, 45, 26, 83, 144, 0, 2, 8, 12, 890, 34]\n",
      "[-29, 0, 2, 8, 10, 12, 26, 34, 45, 56, 83, 90, 123, 144, 890]\n",
      "[890, 144, 123, 90, 83, 56, 45, 34, 26, 12, 10, 8, 2, 0, -29]\n"
     ]
    }
   ],
   "source": [
    "#Creating list of numbers\n",
    "newList = [10,90,-29,56,123,45,26,83,144,0,2,8,12,890,34]\n",
    "print(newList)\n",
    "#Sorting list\n",
    "newList.sort()\n",
    "print(newList)\n",
    "#Sorting in descending order\n",
    "newList.sort(reverse = True)\n",
    "print(newList)\n"
   ]
  },
  {
   "cell_type": "markdown",
   "id": "22978dad",
   "metadata": {},
   "source": [
    "### Dictionary\n",
    "##### Dictionaries are used to store data values in key:value pairs.A dictionary is a collection which is ordered*, changeable and do not allow duplicates.Dictionaries are written with curly brackets, and have keys and values:\n",
    "\n"
   ]
  },
  {
   "cell_type": "code",
   "execution_count": 27,
   "id": "76d39efa",
   "metadata": {},
   "outputs": [
    {
     "name": "stdout",
     "output_type": "stream",
     "text": [
      "1\n",
      "hello\n",
      "True\n"
     ]
    }
   ],
   "source": [
    "#Dictionary\n",
    "dict = {'a':1,'b':'hello','c':True}\n",
    "for key in dict.keys():\n",
    "  print(dict[key])"
   ]
  },
  {
   "cell_type": "code",
   "execution_count": 31,
   "id": "92151a4a",
   "metadata": {},
   "outputs": [
    {
     "name": "stdout",
     "output_type": "stream",
     "text": [
      "Keys:  dict_keys(['a', 'b', 'c'])\n",
      "Values:  dict_values([1, 'hello', True])\n"
     ]
    }
   ],
   "source": [
    "#getting keys and values\n",
    "print(\"Keys: \",dict.keys()) \n",
    "print(\"Values: \",dict.values())"
   ]
  },
  {
   "cell_type": "code",
   "execution_count": 32,
   "id": "3735eef6",
   "metadata": {},
   "outputs": [
    {
     "name": "stdout",
     "output_type": "stream",
     "text": [
      "1\n"
     ]
    }
   ],
   "source": [
    "#Access items\n",
    "print(dict.get('a'))"
   ]
  },
  {
   "cell_type": "code",
   "execution_count": 33,
   "id": "eead97e9",
   "metadata": {},
   "outputs": [
    {
     "name": "stdout",
     "output_type": "stream",
     "text": [
      "{'a': 1, 'b': 'hello', 'c': True, 'z': 'zebra'}\n"
     ]
    }
   ],
   "source": [
    "#Adding items\n",
    "dict['z'] = \"zebra\"\n",
    "print(dict)"
   ]
  },
  {
   "cell_type": "code",
   "execution_count": 34,
   "id": "5de05fee",
   "metadata": {},
   "outputs": [
    {
     "name": "stdout",
     "output_type": "stream",
     "text": [
      "{'a': 1, 'b': 'hello', 'z': 'zebra'}\n"
     ]
    }
   ],
   "source": [
    "#Removing items\n",
    "dict.pop('c')\n",
    "print(dict)"
   ]
  },
  {
   "cell_type": "markdown",
   "id": "4152debd",
   "metadata": {},
   "source": [
    "### Functions\n",
    "##### A function is a block of code which only runs when it is called.Can pass data, known as parameters, into a function.A function can return data as a result."
   ]
  },
  {
   "cell_type": "code",
   "execution_count": 36,
   "id": "70e3c5be",
   "metadata": {},
   "outputs": [
    {
     "name": "stdout",
     "output_type": "stream",
     "text": [
      "This is a function.\n"
     ]
    }
   ],
   "source": [
    "def my_function():\n",
    "  print(\"This is a function.\")\n",
    "#function call\n",
    "my_function()"
   ]
  },
  {
   "cell_type": "code",
   "execution_count": 37,
   "id": "61c6f89e",
   "metadata": {},
   "outputs": [
    {
     "name": "stdout",
     "output_type": "stream",
     "text": [
      "Square value is : 100\n"
     ]
    }
   ],
   "source": [
    "#Function with arguments\n",
    "def square_function(x):\n",
    "  print(\"Square value is :\",x*x)\n",
    "square_function(10)"
   ]
  },
  {
   "cell_type": "code",
   "execution_count": null,
   "id": "9c160cfb",
   "metadata": {},
   "outputs": [],
   "source": [
    "#Function with return type\n",
    "def square_function(x):\n",
    "  return x*x\n",
    "printsquare_function(10)"
   ]
  }
 ],
 "metadata": {
  "kernelspec": {
   "display_name": "Python 3 (ipykernel)",
   "language": "python",
   "name": "python3"
  },
  "language_info": {
   "codemirror_mode": {
    "name": "ipython",
    "version": 3
   },
   "file_extension": ".py",
   "mimetype": "text/x-python",
   "name": "python",
   "nbconvert_exporter": "python",
   "pygments_lexer": "ipython3",
   "version": "3.9.12"
  }
 },
 "nbformat": 4,
 "nbformat_minor": 5
}
