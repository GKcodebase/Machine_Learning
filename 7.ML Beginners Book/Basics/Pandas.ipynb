{
 "cells": [
  {
   "cell_type": "markdown",
   "id": "178d2433",
   "metadata": {},
   "source": [
    "## Pandas\n",
    "#### pandas is a software library written for the Python programming language for data manipulation and analysis. In particular, it offers data structures and operations for manipulating numerical tables and time series. "
   ]
  },
  {
   "cell_type": "code",
   "execution_count": 1,
   "id": "6fdf1662",
   "metadata": {},
   "outputs": [
    {
     "name": "stdout",
     "output_type": "stream",
     "text": [
      "red      15\n",
      "blue     25\n",
      "green    35\n",
      "dtype: int64\n"
     ]
    }
   ],
   "source": [
    "# series\n",
    "import numpy as np\n",
    "import pandas as pd\n",
    "myarray = np.array([15, 25, 35])\n",
    "rownames = ['red', 'blue', 'green']\n",
    "myseries = pd.Series(myarray, index=rownames)\n",
    "print(myseries)"
   ]
  },
  {
   "cell_type": "code",
   "execution_count": 2,
   "id": "2ed318d5",
   "metadata": {},
   "outputs": [
    {
     "name": "stdout",
     "output_type": "stream",
     "text": [
      "15\n",
      "25\n"
     ]
    }
   ],
   "source": [
    "print(myseries[0])\n",
    "print(myseries['blue'])"
   ]
  },
  {
   "cell_type": "code",
   "execution_count": 3,
   "id": "ab2ca00f",
   "metadata": {},
   "outputs": [
    {
     "name": "stdout",
     "output_type": "stream",
     "text": [
      "   delhi  chennai  kolkata\n",
      "y      1        2        3\n",
      "z      4        5        6\n"
     ]
    }
   ],
   "source": [
    "# dataframe\n",
    "myarray = np.array([[1, 2, 3], [4, 5, 6]])\n",
    "rownames = ['y', 'z']\n",
    "colnames = ['delhi', 'chennai', 'kolkata']\n",
    "mydataframe = pd.DataFrame(myarray, index=rownames, columns=colnames)\n",
    "print(mydataframe)"
   ]
  },
  {
   "cell_type": "code",
   "execution_count": 4,
   "id": "b3f4a1db",
   "metadata": {},
   "outputs": [
    {
     "name": "stdout",
     "output_type": "stream",
     "text": [
      "method 1:\n",
      "one column:\n",
      " y    1\n",
      "z    4\n",
      "Name: delhi, dtype: int64\n",
      "method 2:\n",
      "one column:\n",
      " y    1\n",
      "z    4\n",
      "Name: delhi, dtype: int64\n"
     ]
    }
   ],
   "source": [
    "print(\"method 1:\")\n",
    "print(\"one column:\\n\",mydataframe['delhi'])\n",
    "print(\"method 2:\")\n",
    "print(\"one column:\\n\",mydataframe.delhi)"
   ]
  },
  {
   "cell_type": "code",
   "execution_count": null,
   "id": "0136ccfe",
   "metadata": {},
   "outputs": [],
   "source": []
  }
 ],
 "metadata": {
  "kernelspec": {
   "display_name": "Python 3 (ipykernel)",
   "language": "python",
   "name": "python3"
  },
  "language_info": {
   "codemirror_mode": {
    "name": "ipython",
    "version": 3
   },
   "file_extension": ".py",
   "mimetype": "text/x-python",
   "name": "python",
   "nbconvert_exporter": "python",
   "pygments_lexer": "ipython3",
   "version": "3.9.12"
  }
 },
 "nbformat": 4,
 "nbformat_minor": 5
}
